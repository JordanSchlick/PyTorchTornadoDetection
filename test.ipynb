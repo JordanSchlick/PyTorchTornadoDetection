{
 "cells": [
  {
   "cell_type": "code",
   "execution_count": null,
   "metadata": {},
   "outputs": [],
   "source": [
    "# build module\n",
    "!python \"../openstorm_radar_py/setup.py\" build -j 8"
   ]
  },
  {
   "cell_type": "code",
   "execution_count": null,
   "metadata": {},
   "outputs": [],
   "source": [
    "import sys\n",
    "import os\n",
    "import numpy as np\n",
    "import time\n",
    "import math\n",
    "import matplotlib.animation\n",
    "import IPython\n",
    "from matplotlib import pyplot as plt\n",
    "import matplotlib\n",
    "\n",
    "#%config InlineBackend.figure_formats = ['svg']\n",
    "#%config InlineBackend.figure_formats = ['jpeg']\n",
    "%config InlineBackend.figure_formats = ['retina']\n",
    "#%config InlineBackend.figure_formats = ['png']\n",
    "plt.rcParams['svg.fonttype'] = 'none'\n",
    "plt.rcParams[\"figure.figsize\"] = (7, 7)\n",
    "\n",
    "\n",
    "sys.path.insert(0, '../')\n",
    "import openstorm_radar_py\n",
    "\n"
   ]
  },
  {
   "cell_type": "code",
   "execution_count": null,
   "metadata": {},
   "outputs": [],
   "source": [
    "# create RadarDataHolder object\n",
    "radar_data_holder = openstorm_radar_py.RadarDataHolder()"
   ]
  },
  {
   "cell_type": "code",
   "execution_count": null,
   "metadata": {},
   "outputs": [],
   "source": [
    "# select products to be loaded\n",
    "reflectivity_product = radar_data_holder.get_product(openstorm_radar_py.VolumeTypes.VOLUME_REFLECTIVITY)\n",
    "velocity_product = radar_data_holder.get_product(openstorm_radar_py.VolumeTypes.VOLUME_VELOCITY)\n",
    "# derived products\n",
    "srv_product = radar_data_holder.get_product(openstorm_radar_py.VolumeTypes.VOLUME_STORM_RELATIVE_VELOCITY)\n",
    "rotation_product = radar_data_holder.get_product(openstorm_radar_py.VolumeTypes.VOLUME_ROTATION)"
   ]
  },
  {
   "cell_type": "code",
   "execution_count": null,
   "metadata": {},
   "outputs": [],
   "source": [
    "# load file\n",
    "radar_data_holder.load(\"../OpenStorm/Content/Data/Demo/KTLX20130531_231434_V06\")\n",
    "#radar_data_holder.load(\"../files/el-reno/compressed/KTLX20130531_231434_V06.gz\")\n",
    "# wait for it to finish loading because RadarDataHolder is asynchronous and multi-threaded\n",
    "while(radar_data_holder.get_state() == openstorm_radar_py.RadarDataHolder.DataStateLoading):\n",
    "\tprint(\"loading...\", end='\\r')\n",
    "\ttime.sleep(0.1)\n",
    "print(\"loaded      \", end='\\n')"
   ]
  },
  {
   "cell_type": "code",
   "execution_count": null,
   "metadata": {},
   "outputs": [],
   "source": [
    "# get now loaded RadarData objects from products\n",
    "print(\"is reflectivity loaded?\", reflectivity_product.is_loaded(), \"   is velocity loaded?\", velocity_product.is_loaded(), \"   is srv loaded?\", srv_product.is_loaded(), \"   is rotation loaded?\", rotation_product.is_loaded())\n",
    "reflectivity_data = reflectivity_product.get_radar_data()\n",
    "velocity_data = velocity_product.get_radar_data()\n",
    "srv_data = srv_product.get_radar_data()\n",
    "rotation_data = rotation_product.get_radar_data()\n",
    "velocity_data.get_stats()"
   ]
  },
  {
   "cell_type": "code",
   "execution_count": null,
   "metadata": {},
   "outputs": [],
   "source": [
    "# a function to correctly plot sweep buffers\n",
    "def plot_radial_image(buffer):\n",
    "\ttheta, rad = np.meshgrid(np.linspace(np.pi * 2.5, np.pi * 0.5, buffer.shape[0]), np.linspace(0, buffer.shape[1], buffer.shape[1]))\n",
    "\t#print(theta.shape, rad.shape)\n",
    "\tfig = plt.figure()\n",
    "\tax = fig.add_subplot(111, polar='True')\n",
    "\tax.pcolormesh(theta, rad, np.transpose(buffer), shading='auto')\n",
    "\tplt.show()"
   ]
  },
  {
   "cell_type": "code",
   "execution_count": null,
   "metadata": {},
   "outputs": [],
   "source": [
    "print(reflectivity_data._ptr, velocity_data._ptr, rotation_data._ptr, srv_data._ptr)\n",
    "print(reflectivity_data.buffer)\n",
    "#time.sleep(1)\n",
    "plot_radial_image(np.array(reflectivity_data.buffer)[0,1:-1,:1000])\n",
    "#time.sleep(0.5)\n",
    "plot_radial_image(np.array(velocity_data.buffer)[0,1:-1,:1000])\n",
    "#time.sleep(0.5)\n",
    "plot_radial_image(np.clip(np.array(srv_data.buffer),-10, 10)[0,1:-1,:1000])\n",
    "#time.sleep(0.5)\n",
    "plot_radial_image(np.array(rotation_data.buffer)[0,1:-1,:1000])"
   ]
  },
  {
   "cell_type": "code",
   "execution_count": null,
   "metadata": {},
   "outputs": [],
   "source": [
    "import importlib\n",
    "import tornado_data\n",
    "importlib.reload(tornado_data)\n",
    "\n",
    "# test generating the mask of where tornados are\n",
    "mask = tornado_data.generate_mask(srv_data)[:,:1000]\n",
    "\n",
    "fig = plt.figure(figsize=(7,7))\n",
    "ax = fig.add_subplot()\n",
    "ax.imshow(mask, interpolation='nearest')\n",
    "plt.show()\n",
    "plot_radial_image(mask)"
   ]
  },
  {
   "cell_type": "code",
   "execution_count": null,
   "metadata": {},
   "outputs": [],
   "source": [
    "# make an animation out of the files in a directory and plot tornados as red dots using tornado_mask.py\n",
    "if 1:\n",
    "\tprint(\"start animation\", end='\\r')\n",
    "\tfig = plt.figure(figsize=(12,12))\n",
    "\tax = fig.add_subplot(111, polar='True')\n",
    "\n",
    "\t#animation_data_dir = \"../files/el-reno/\"\n",
    "\tanimation_data_dir = \"../files/tornado-2011/\"\n",
    "\tanimation_data_files = list(map(lambda x: animation_data_dir + x, os.listdir(animation_data_dir)))\n",
    "\t# animation_data_files = animation_data_files[1:]\n",
    "\n",
    "\tdef drawframe(frame):\n",
    "\t\tradius = 1000\n",
    "\t\tprint(\"frame\", frame + 1, \"             \", end='\\r')\n",
    "\t\ttime.sleep(0.05)\n",
    "\t\t\n",
    "\t\tradar_data_holder = openstorm_radar_py.RadarDataHolder()\n",
    "\t\t\n",
    "\t\tref_product = radar_data_holder.get_product(openstorm_radar_py.VolumeTypes.VOLUME_REFLECTIVITY)\n",
    "\t\t#rot_product = radar_data_holder.get_product(openstorm_radar_py.VolumeTypes.VOLUME_ROTATION)\n",
    "\t\tsrv_product = radar_data_holder.get_product(openstorm_radar_py.VolumeTypes.VOLUME_STORM_RELATIVE_VELOCITY)\n",
    "\t\t\n",
    "\t\tradar_data_holder.load(animation_data_files[frame])\n",
    "\t\t# wait for it to finish loading because RadarDataHolder is asynchronous and multi-threaded\n",
    "\t\twhile(radar_data_holder.get_state() == openstorm_radar_py.RadarDataHolder.DataStateLoading):\n",
    "\t\t\ttime.sleep(0.1)\n",
    "\t\tif srv_product.is_loaded() == False:\n",
    "\t\t\treturn tuple([])\n",
    "\t\t\t\n",
    "\t\tradar_data = ref_product.get_radar_data()\n",
    "\t\t#radar_data = rot_product.get_radar_data()\n",
    "\t\tbuffer = np.array(radar_data.buffer)[0,1:-1,:radius]\n",
    "\t\t\n",
    "\t\t#radar_data = srv_product.get_radar_data()\n",
    "\t\t#buffer = np.clip(np.array(radar_data.buffer),-20, 20)[0,1:-1,:radius]\n",
    "\t\t\n",
    "\t\tprint(\"frame\", frame + 1, \"loaded       \", end='\\r')\n",
    "\t\t#buffer = np.array(radar_data.buffer)[0,1:-1,:1000]\n",
    "\t\ttheta, rad = np.meshgrid(np.linspace(np.pi * 2.5, np.pi * 0.5, buffer.shape[0]), np.linspace(0, 1, buffer.shape[1]))\n",
    "\t\tax.clear()\n",
    "\t\tar = ax.pcolormesh(theta, rad, np.transpose(buffer), shading='auto')\n",
    "\t\t# plot mask overlay\n",
    "\t\ttransparent_cmap = matplotlib.colors.LinearSegmentedColormap.from_list('transparent_cmap',[\"white\",\"red\"],256)\n",
    "\t\ttransparent_cmap._init()\n",
    "\t\talphas = np.linspace(0, 0.3, transparent_cmap.N+3)\n",
    "\t\ttransparent_cmap._lut[:,-1] = alphas\n",
    "\t\tmask = tornado_data.generate_mask(radar_data)[:,:radius]\n",
    "\t\tar2 = ax.pcolormesh(theta, rad, np.transpose(mask), shading='auto', cmap=transparent_cmap)\n",
    "\t\treturn tuple([ar, ar2])\n",
    "\tanim = matplotlib.animation.FuncAnimation(fig, drawframe, frames=len(animation_data_files), interval=1000/10, blit=True)\n",
    "\tIPython.display.display(IPython.display.HTML(anim.to_html5_video()))\n",
    "\tplt.close()"
   ]
  }
 ],
 "metadata": {
  "kernelspec": {
   "display_name": "Python 3",
   "language": "python",
   "name": "python3"
  },
  "language_info": {
   "codemirror_mode": {
    "name": "ipython",
    "version": 3
   },
   "file_extension": ".py",
   "mimetype": "text/x-python",
   "name": "python",
   "nbconvert_exporter": "python",
   "pygments_lexer": "ipython3",
   "version": "3.10.1"
  },
  "orig_nbformat": 4,
  "vscode": {
   "interpreter": {
    "hash": "7442b647fa13706ec8ca2ff6cc57331563f166cbe61102762d8ce61bee535f3e"
   }
  }
 },
 "nbformat": 4,
 "nbformat_minor": 2
}
